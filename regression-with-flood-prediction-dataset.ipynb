{
 "cells": [
  {
   "cell_type": "code",
   "execution_count": 1,
   "id": "6a5c9b8b",
   "metadata": {
    "_cell_guid": "b1076dfc-b9ad-4769-8c92-a6c4dae69d19",
    "_uuid": "8f2839f25d086af736a60e9eeb907d3b93b6e0e5",
    "execution": {
     "iopub.execute_input": "2024-05-09T15:57:29.526972Z",
     "iopub.status.busy": "2024-05-09T15:57:29.526556Z",
     "iopub.status.idle": "2024-05-09T15:57:30.462387Z",
     "shell.execute_reply": "2024-05-09T15:57:30.461255Z"
    },
    "papermill": {
     "duration": 0.94847,
     "end_time": "2024-05-09T15:57:30.464970",
     "exception": false,
     "start_time": "2024-05-09T15:57:29.516500",
     "status": "completed"
    },
    "tags": []
   },
   "outputs": [
    {
     "name": "stdout",
     "output_type": "stream",
     "text": [
      "/kaggle/input/playground-series-s4e5/sample_submission.csv\n",
      "/kaggle/input/playground-series-s4e5/train.csv\n",
      "/kaggle/input/playground-series-s4e5/test.csv\n"
     ]
    }
   ],
   "source": [
    "# This Python 3 environment comes with many helpful analytics libraries installed\n",
    "# It is defined by the kaggle/python Docker image: https://github.com/kaggle/docker-python\n",
    "# For example, here's several helpful packages to load\n",
    "\n",
    "import numpy as np # linear algebra\n",
    "import pandas as pd # data processing, CSV file I/O (e.g. pd.read_csv)\n",
    "\n",
    "# Input data files are available in the read-only \"../input/\" directory\n",
    "# For example, running this (by clicking run or pressing Shift+Enter) will list all files under the input directory\n",
    "\n",
    "import os\n",
    "for dirname, _, filenames in os.walk('/kaggle/input'):\n",
    "    for filename in filenames:\n",
    "        print(os.path.join(dirname, filename))\n",
    "\n",
    "# You can write up to 20GB to the current directory (/kaggle/working/) that gets preserved as output when you create a version using \"Save & Run All\" \n",
    "# You can also write temporary files to /kaggle/temp/, but they won't be saved outside of the current session"
   ]
  },
  {
   "cell_type": "code",
   "execution_count": 2,
   "id": "475a8b37",
   "metadata": {
    "execution": {
     "iopub.execute_input": "2024-05-09T15:57:30.482140Z",
     "iopub.status.busy": "2024-05-09T15:57:30.481167Z",
     "iopub.status.idle": "2024-05-09T15:57:32.337261Z",
     "shell.execute_reply": "2024-05-09T15:57:32.335958Z"
    },
    "papermill": {
     "duration": 1.868028,
     "end_time": "2024-05-09T15:57:32.340615",
     "exception": false,
     "start_time": "2024-05-09T15:57:30.472587",
     "status": "completed"
    },
    "tags": []
   },
   "outputs": [],
   "source": [
    "import numpy as np\n",
    "import pandas as pd\n",
    "import seaborn as sns \n",
    "import matplotlib.pyplot as plt\n",
    "from sklearn.svm import SVR\n",
    "from sklearn.preprocessing import StandardScaler\n",
    "from sklearn.metrics import mean_squared_error\n"
   ]
  },
  {
   "cell_type": "code",
   "execution_count": 3,
   "id": "8f75905c",
   "metadata": {
    "execution": {
     "iopub.execute_input": "2024-05-09T15:57:32.358516Z",
     "iopub.status.busy": "2024-05-09T15:57:32.358042Z",
     "iopub.status.idle": "2024-05-09T15:57:36.134893Z",
     "shell.execute_reply": "2024-05-09T15:57:36.133748Z"
    },
    "papermill": {
     "duration": 3.78904,
     "end_time": "2024-05-09T15:57:36.137729",
     "exception": false,
     "start_time": "2024-05-09T15:57:32.348689",
     "status": "completed"
    },
    "tags": []
   },
   "outputs": [],
   "source": [
    "train_data = pd.read_csv(\"/kaggle/input/playground-series-s4e5/train.csv\")\n",
    "test_data = pd.read_csv(\"/kaggle/input/playground-series-s4e5/test.csv\")"
   ]
  },
  {
   "cell_type": "code",
   "execution_count": 4,
   "id": "159ad213",
   "metadata": {
    "execution": {
     "iopub.execute_input": "2024-05-09T15:57:36.155243Z",
     "iopub.status.busy": "2024-05-09T15:57:36.154852Z",
     "iopub.status.idle": "2024-05-09T15:57:36.200998Z",
     "shell.execute_reply": "2024-05-09T15:57:36.199629Z"
    },
    "papermill": {
     "duration": 0.057627,
     "end_time": "2024-05-09T15:57:36.203696",
     "exception": false,
     "start_time": "2024-05-09T15:57:36.146069",
     "status": "completed"
    },
    "tags": []
   },
   "outputs": [
    {
     "data": {
      "text/html": [
       "<div>\n",
       "<style scoped>\n",
       "    .dataframe tbody tr th:only-of-type {\n",
       "        vertical-align: middle;\n",
       "    }\n",
       "\n",
       "    .dataframe tbody tr th {\n",
       "        vertical-align: top;\n",
       "    }\n",
       "\n",
       "    .dataframe thead th {\n",
       "        text-align: right;\n",
       "    }\n",
       "</style>\n",
       "<table border=\"1\" class=\"dataframe\">\n",
       "  <thead>\n",
       "    <tr style=\"text-align: right;\">\n",
       "      <th></th>\n",
       "      <th>id</th>\n",
       "      <th>MonsoonIntensity</th>\n",
       "      <th>TopographyDrainage</th>\n",
       "      <th>RiverManagement</th>\n",
       "      <th>Deforestation</th>\n",
       "      <th>Urbanization</th>\n",
       "      <th>ClimateChange</th>\n",
       "      <th>DamsQuality</th>\n",
       "      <th>Siltation</th>\n",
       "      <th>AgriculturalPractices</th>\n",
       "      <th>...</th>\n",
       "      <th>DrainageSystems</th>\n",
       "      <th>CoastalVulnerability</th>\n",
       "      <th>Landslides</th>\n",
       "      <th>Watersheds</th>\n",
       "      <th>DeterioratingInfrastructure</th>\n",
       "      <th>PopulationScore</th>\n",
       "      <th>WetlandLoss</th>\n",
       "      <th>InadequatePlanning</th>\n",
       "      <th>PoliticalFactors</th>\n",
       "      <th>FloodProbability</th>\n",
       "    </tr>\n",
       "  </thead>\n",
       "  <tbody>\n",
       "    <tr>\n",
       "      <th>0</th>\n",
       "      <td>0</td>\n",
       "      <td>5</td>\n",
       "      <td>8</td>\n",
       "      <td>5</td>\n",
       "      <td>8</td>\n",
       "      <td>6</td>\n",
       "      <td>4</td>\n",
       "      <td>4</td>\n",
       "      <td>3</td>\n",
       "      <td>3</td>\n",
       "      <td>...</td>\n",
       "      <td>5</td>\n",
       "      <td>3</td>\n",
       "      <td>3</td>\n",
       "      <td>5</td>\n",
       "      <td>4</td>\n",
       "      <td>7</td>\n",
       "      <td>5</td>\n",
       "      <td>7</td>\n",
       "      <td>3</td>\n",
       "      <td>0.445</td>\n",
       "    </tr>\n",
       "    <tr>\n",
       "      <th>1</th>\n",
       "      <td>1</td>\n",
       "      <td>6</td>\n",
       "      <td>7</td>\n",
       "      <td>4</td>\n",
       "      <td>4</td>\n",
       "      <td>8</td>\n",
       "      <td>8</td>\n",
       "      <td>3</td>\n",
       "      <td>5</td>\n",
       "      <td>4</td>\n",
       "      <td>...</td>\n",
       "      <td>7</td>\n",
       "      <td>2</td>\n",
       "      <td>0</td>\n",
       "      <td>3</td>\n",
       "      <td>5</td>\n",
       "      <td>3</td>\n",
       "      <td>3</td>\n",
       "      <td>4</td>\n",
       "      <td>3</td>\n",
       "      <td>0.450</td>\n",
       "    </tr>\n",
       "    <tr>\n",
       "      <th>2</th>\n",
       "      <td>2</td>\n",
       "      <td>6</td>\n",
       "      <td>5</td>\n",
       "      <td>6</td>\n",
       "      <td>7</td>\n",
       "      <td>3</td>\n",
       "      <td>7</td>\n",
       "      <td>1</td>\n",
       "      <td>5</td>\n",
       "      <td>4</td>\n",
       "      <td>...</td>\n",
       "      <td>7</td>\n",
       "      <td>3</td>\n",
       "      <td>7</td>\n",
       "      <td>5</td>\n",
       "      <td>6</td>\n",
       "      <td>8</td>\n",
       "      <td>2</td>\n",
       "      <td>3</td>\n",
       "      <td>3</td>\n",
       "      <td>0.530</td>\n",
       "    </tr>\n",
       "    <tr>\n",
       "      <th>3</th>\n",
       "      <td>3</td>\n",
       "      <td>3</td>\n",
       "      <td>4</td>\n",
       "      <td>6</td>\n",
       "      <td>5</td>\n",
       "      <td>4</td>\n",
       "      <td>8</td>\n",
       "      <td>4</td>\n",
       "      <td>7</td>\n",
       "      <td>6</td>\n",
       "      <td>...</td>\n",
       "      <td>2</td>\n",
       "      <td>4</td>\n",
       "      <td>7</td>\n",
       "      <td>4</td>\n",
       "      <td>4</td>\n",
       "      <td>6</td>\n",
       "      <td>5</td>\n",
       "      <td>7</td>\n",
       "      <td>5</td>\n",
       "      <td>0.535</td>\n",
       "    </tr>\n",
       "    <tr>\n",
       "      <th>4</th>\n",
       "      <td>4</td>\n",
       "      <td>5</td>\n",
       "      <td>3</td>\n",
       "      <td>2</td>\n",
       "      <td>6</td>\n",
       "      <td>4</td>\n",
       "      <td>4</td>\n",
       "      <td>3</td>\n",
       "      <td>3</td>\n",
       "      <td>3</td>\n",
       "      <td>...</td>\n",
       "      <td>2</td>\n",
       "      <td>2</td>\n",
       "      <td>6</td>\n",
       "      <td>6</td>\n",
       "      <td>4</td>\n",
       "      <td>1</td>\n",
       "      <td>2</td>\n",
       "      <td>3</td>\n",
       "      <td>5</td>\n",
       "      <td>0.415</td>\n",
       "    </tr>\n",
       "  </tbody>\n",
       "</table>\n",
       "<p>5 rows × 22 columns</p>\n",
       "</div>"
      ],
      "text/plain": [
       "   id  MonsoonIntensity  TopographyDrainage  RiverManagement  Deforestation  \\\n",
       "0   0                 5                   8                5              8   \n",
       "1   1                 6                   7                4              4   \n",
       "2   2                 6                   5                6              7   \n",
       "3   3                 3                   4                6              5   \n",
       "4   4                 5                   3                2              6   \n",
       "\n",
       "   Urbanization  ClimateChange  DamsQuality  Siltation  AgriculturalPractices  \\\n",
       "0             6              4            4          3                      3   \n",
       "1             8              8            3          5                      4   \n",
       "2             3              7            1          5                      4   \n",
       "3             4              8            4          7                      6   \n",
       "4             4              4            3          3                      3   \n",
       "\n",
       "   ...  DrainageSystems  CoastalVulnerability  Landslides  Watersheds  \\\n",
       "0  ...                5                     3           3           5   \n",
       "1  ...                7                     2           0           3   \n",
       "2  ...                7                     3           7           5   \n",
       "3  ...                2                     4           7           4   \n",
       "4  ...                2                     2           6           6   \n",
       "\n",
       "   DeterioratingInfrastructure  PopulationScore  WetlandLoss  \\\n",
       "0                            4                7            5   \n",
       "1                            5                3            3   \n",
       "2                            6                8            2   \n",
       "3                            4                6            5   \n",
       "4                            4                1            2   \n",
       "\n",
       "   InadequatePlanning  PoliticalFactors  FloodProbability  \n",
       "0                   7                 3             0.445  \n",
       "1                   4                 3             0.450  \n",
       "2                   3                 3             0.530  \n",
       "3                   7                 5             0.535  \n",
       "4                   3                 5             0.415  \n",
       "\n",
       "[5 rows x 22 columns]"
      ]
     },
     "execution_count": 4,
     "metadata": {},
     "output_type": "execute_result"
    }
   ],
   "source": [
    "train_data.head()"
   ]
  },
  {
   "cell_type": "code",
   "execution_count": 5,
   "id": "b72694d5",
   "metadata": {
    "execution": {
     "iopub.execute_input": "2024-05-09T15:57:36.222309Z",
     "iopub.status.busy": "2024-05-09T15:57:36.221928Z",
     "iopub.status.idle": "2024-05-09T15:57:37.184035Z",
     "shell.execute_reply": "2024-05-09T15:57:37.182660Z"
    },
    "papermill": {
     "duration": 0.975261,
     "end_time": "2024-05-09T15:57:37.187710",
     "exception": false,
     "start_time": "2024-05-09T15:57:36.212449",
     "status": "completed"
    },
    "tags": []
   },
   "outputs": [
    {
     "data": {
      "text/html": [
       "<div>\n",
       "<style scoped>\n",
       "    .dataframe tbody tr th:only-of-type {\n",
       "        vertical-align: middle;\n",
       "    }\n",
       "\n",
       "    .dataframe tbody tr th {\n",
       "        vertical-align: top;\n",
       "    }\n",
       "\n",
       "    .dataframe thead th {\n",
       "        text-align: right;\n",
       "    }\n",
       "</style>\n",
       "<table border=\"1\" class=\"dataframe\">\n",
       "  <thead>\n",
       "    <tr style=\"text-align: right;\">\n",
       "      <th></th>\n",
       "      <th>id</th>\n",
       "      <th>MonsoonIntensity</th>\n",
       "      <th>TopographyDrainage</th>\n",
       "      <th>RiverManagement</th>\n",
       "      <th>Deforestation</th>\n",
       "      <th>Urbanization</th>\n",
       "      <th>ClimateChange</th>\n",
       "      <th>DamsQuality</th>\n",
       "      <th>Siltation</th>\n",
       "      <th>AgriculturalPractices</th>\n",
       "      <th>...</th>\n",
       "      <th>DrainageSystems</th>\n",
       "      <th>CoastalVulnerability</th>\n",
       "      <th>Landslides</th>\n",
       "      <th>Watersheds</th>\n",
       "      <th>DeterioratingInfrastructure</th>\n",
       "      <th>PopulationScore</th>\n",
       "      <th>WetlandLoss</th>\n",
       "      <th>InadequatePlanning</th>\n",
       "      <th>PoliticalFactors</th>\n",
       "      <th>FloodProbability</th>\n",
       "    </tr>\n",
       "  </thead>\n",
       "  <tbody>\n",
       "    <tr>\n",
       "      <th>count</th>\n",
       "      <td>1.117957e+06</td>\n",
       "      <td>1.117957e+06</td>\n",
       "      <td>1.117957e+06</td>\n",
       "      <td>1.117957e+06</td>\n",
       "      <td>1.117957e+06</td>\n",
       "      <td>1.117957e+06</td>\n",
       "      <td>1.117957e+06</td>\n",
       "      <td>1.117957e+06</td>\n",
       "      <td>1.117957e+06</td>\n",
       "      <td>1.117957e+06</td>\n",
       "      <td>...</td>\n",
       "      <td>1.117957e+06</td>\n",
       "      <td>1.117957e+06</td>\n",
       "      <td>1.117957e+06</td>\n",
       "      <td>1.117957e+06</td>\n",
       "      <td>1.117957e+06</td>\n",
       "      <td>1.117957e+06</td>\n",
       "      <td>1.117957e+06</td>\n",
       "      <td>1.117957e+06</td>\n",
       "      <td>1.117957e+06</td>\n",
       "      <td>1.117957e+06</td>\n",
       "    </tr>\n",
       "    <tr>\n",
       "      <th>mean</th>\n",
       "      <td>5.589780e+05</td>\n",
       "      <td>4.921450e+00</td>\n",
       "      <td>4.926671e+00</td>\n",
       "      <td>4.955322e+00</td>\n",
       "      <td>4.942240e+00</td>\n",
       "      <td>4.942517e+00</td>\n",
       "      <td>4.934093e+00</td>\n",
       "      <td>4.955878e+00</td>\n",
       "      <td>4.927791e+00</td>\n",
       "      <td>4.942619e+00</td>\n",
       "      <td>...</td>\n",
       "      <td>4.946893e+00</td>\n",
       "      <td>4.953999e+00</td>\n",
       "      <td>4.931376e+00</td>\n",
       "      <td>4.929032e+00</td>\n",
       "      <td>4.925907e+00</td>\n",
       "      <td>4.927520e+00</td>\n",
       "      <td>4.950859e+00</td>\n",
       "      <td>4.940587e+00</td>\n",
       "      <td>4.939004e+00</td>\n",
       "      <td>5.044803e-01</td>\n",
       "    </tr>\n",
       "    <tr>\n",
       "      <th>std</th>\n",
       "      <td>3.227265e+05</td>\n",
       "      <td>2.056387e+00</td>\n",
       "      <td>2.093879e+00</td>\n",
       "      <td>2.072186e+00</td>\n",
       "      <td>2.051689e+00</td>\n",
       "      <td>2.083391e+00</td>\n",
       "      <td>2.057742e+00</td>\n",
       "      <td>2.083063e+00</td>\n",
       "      <td>2.065992e+00</td>\n",
       "      <td>2.068545e+00</td>\n",
       "      <td>...</td>\n",
       "      <td>2.072333e+00</td>\n",
       "      <td>2.088899e+00</td>\n",
       "      <td>2.078287e+00</td>\n",
       "      <td>2.082395e+00</td>\n",
       "      <td>2.064813e+00</td>\n",
       "      <td>2.074176e+00</td>\n",
       "      <td>2.068696e+00</td>\n",
       "      <td>2.081123e+00</td>\n",
       "      <td>2.090350e+00</td>\n",
       "      <td>5.102610e-02</td>\n",
       "    </tr>\n",
       "    <tr>\n",
       "      <th>min</th>\n",
       "      <td>0.000000e+00</td>\n",
       "      <td>0.000000e+00</td>\n",
       "      <td>0.000000e+00</td>\n",
       "      <td>0.000000e+00</td>\n",
       "      <td>0.000000e+00</td>\n",
       "      <td>0.000000e+00</td>\n",
       "      <td>0.000000e+00</td>\n",
       "      <td>0.000000e+00</td>\n",
       "      <td>0.000000e+00</td>\n",
       "      <td>0.000000e+00</td>\n",
       "      <td>...</td>\n",
       "      <td>0.000000e+00</td>\n",
       "      <td>0.000000e+00</td>\n",
       "      <td>0.000000e+00</td>\n",
       "      <td>0.000000e+00</td>\n",
       "      <td>0.000000e+00</td>\n",
       "      <td>0.000000e+00</td>\n",
       "      <td>0.000000e+00</td>\n",
       "      <td>0.000000e+00</td>\n",
       "      <td>0.000000e+00</td>\n",
       "      <td>2.850000e-01</td>\n",
       "    </tr>\n",
       "    <tr>\n",
       "      <th>25%</th>\n",
       "      <td>2.794890e+05</td>\n",
       "      <td>3.000000e+00</td>\n",
       "      <td>3.000000e+00</td>\n",
       "      <td>4.000000e+00</td>\n",
       "      <td>4.000000e+00</td>\n",
       "      <td>3.000000e+00</td>\n",
       "      <td>3.000000e+00</td>\n",
       "      <td>4.000000e+00</td>\n",
       "      <td>3.000000e+00</td>\n",
       "      <td>3.000000e+00</td>\n",
       "      <td>...</td>\n",
       "      <td>4.000000e+00</td>\n",
       "      <td>3.000000e+00</td>\n",
       "      <td>3.000000e+00</td>\n",
       "      <td>3.000000e+00</td>\n",
       "      <td>3.000000e+00</td>\n",
       "      <td>3.000000e+00</td>\n",
       "      <td>4.000000e+00</td>\n",
       "      <td>3.000000e+00</td>\n",
       "      <td>3.000000e+00</td>\n",
       "      <td>4.700000e-01</td>\n",
       "    </tr>\n",
       "    <tr>\n",
       "      <th>50%</th>\n",
       "      <td>5.589780e+05</td>\n",
       "      <td>5.000000e+00</td>\n",
       "      <td>5.000000e+00</td>\n",
       "      <td>5.000000e+00</td>\n",
       "      <td>5.000000e+00</td>\n",
       "      <td>5.000000e+00</td>\n",
       "      <td>5.000000e+00</td>\n",
       "      <td>5.000000e+00</td>\n",
       "      <td>5.000000e+00</td>\n",
       "      <td>5.000000e+00</td>\n",
       "      <td>...</td>\n",
       "      <td>5.000000e+00</td>\n",
       "      <td>5.000000e+00</td>\n",
       "      <td>5.000000e+00</td>\n",
       "      <td>5.000000e+00</td>\n",
       "      <td>5.000000e+00</td>\n",
       "      <td>5.000000e+00</td>\n",
       "      <td>5.000000e+00</td>\n",
       "      <td>5.000000e+00</td>\n",
       "      <td>5.000000e+00</td>\n",
       "      <td>5.050000e-01</td>\n",
       "    </tr>\n",
       "    <tr>\n",
       "      <th>75%</th>\n",
       "      <td>8.384670e+05</td>\n",
       "      <td>6.000000e+00</td>\n",
       "      <td>6.000000e+00</td>\n",
       "      <td>6.000000e+00</td>\n",
       "      <td>6.000000e+00</td>\n",
       "      <td>6.000000e+00</td>\n",
       "      <td>6.000000e+00</td>\n",
       "      <td>6.000000e+00</td>\n",
       "      <td>6.000000e+00</td>\n",
       "      <td>6.000000e+00</td>\n",
       "      <td>...</td>\n",
       "      <td>6.000000e+00</td>\n",
       "      <td>6.000000e+00</td>\n",
       "      <td>6.000000e+00</td>\n",
       "      <td>6.000000e+00</td>\n",
       "      <td>6.000000e+00</td>\n",
       "      <td>6.000000e+00</td>\n",
       "      <td>6.000000e+00</td>\n",
       "      <td>6.000000e+00</td>\n",
       "      <td>6.000000e+00</td>\n",
       "      <td>5.400000e-01</td>\n",
       "    </tr>\n",
       "    <tr>\n",
       "      <th>max</th>\n",
       "      <td>1.117956e+06</td>\n",
       "      <td>1.600000e+01</td>\n",
       "      <td>1.800000e+01</td>\n",
       "      <td>1.600000e+01</td>\n",
       "      <td>1.700000e+01</td>\n",
       "      <td>1.700000e+01</td>\n",
       "      <td>1.700000e+01</td>\n",
       "      <td>1.600000e+01</td>\n",
       "      <td>1.600000e+01</td>\n",
       "      <td>1.600000e+01</td>\n",
       "      <td>...</td>\n",
       "      <td>1.700000e+01</td>\n",
       "      <td>1.700000e+01</td>\n",
       "      <td>1.600000e+01</td>\n",
       "      <td>1.600000e+01</td>\n",
       "      <td>1.700000e+01</td>\n",
       "      <td>1.800000e+01</td>\n",
       "      <td>1.900000e+01</td>\n",
       "      <td>1.600000e+01</td>\n",
       "      <td>1.600000e+01</td>\n",
       "      <td>7.250000e-01</td>\n",
       "    </tr>\n",
       "  </tbody>\n",
       "</table>\n",
       "<p>8 rows × 22 columns</p>\n",
       "</div>"
      ],
      "text/plain": [
       "                 id  MonsoonIntensity  TopographyDrainage  RiverManagement  \\\n",
       "count  1.117957e+06      1.117957e+06        1.117957e+06     1.117957e+06   \n",
       "mean   5.589780e+05      4.921450e+00        4.926671e+00     4.955322e+00   \n",
       "std    3.227265e+05      2.056387e+00        2.093879e+00     2.072186e+00   \n",
       "min    0.000000e+00      0.000000e+00        0.000000e+00     0.000000e+00   \n",
       "25%    2.794890e+05      3.000000e+00        3.000000e+00     4.000000e+00   \n",
       "50%    5.589780e+05      5.000000e+00        5.000000e+00     5.000000e+00   \n",
       "75%    8.384670e+05      6.000000e+00        6.000000e+00     6.000000e+00   \n",
       "max    1.117956e+06      1.600000e+01        1.800000e+01     1.600000e+01   \n",
       "\n",
       "       Deforestation  Urbanization  ClimateChange   DamsQuality     Siltation  \\\n",
       "count   1.117957e+06  1.117957e+06   1.117957e+06  1.117957e+06  1.117957e+06   \n",
       "mean    4.942240e+00  4.942517e+00   4.934093e+00  4.955878e+00  4.927791e+00   \n",
       "std     2.051689e+00  2.083391e+00   2.057742e+00  2.083063e+00  2.065992e+00   \n",
       "min     0.000000e+00  0.000000e+00   0.000000e+00  0.000000e+00  0.000000e+00   \n",
       "25%     4.000000e+00  3.000000e+00   3.000000e+00  4.000000e+00  3.000000e+00   \n",
       "50%     5.000000e+00  5.000000e+00   5.000000e+00  5.000000e+00  5.000000e+00   \n",
       "75%     6.000000e+00  6.000000e+00   6.000000e+00  6.000000e+00  6.000000e+00   \n",
       "max     1.700000e+01  1.700000e+01   1.700000e+01  1.600000e+01  1.600000e+01   \n",
       "\n",
       "       AgriculturalPractices  ...  DrainageSystems  CoastalVulnerability  \\\n",
       "count           1.117957e+06  ...     1.117957e+06          1.117957e+06   \n",
       "mean            4.942619e+00  ...     4.946893e+00          4.953999e+00   \n",
       "std             2.068545e+00  ...     2.072333e+00          2.088899e+00   \n",
       "min             0.000000e+00  ...     0.000000e+00          0.000000e+00   \n",
       "25%             3.000000e+00  ...     4.000000e+00          3.000000e+00   \n",
       "50%             5.000000e+00  ...     5.000000e+00          5.000000e+00   \n",
       "75%             6.000000e+00  ...     6.000000e+00          6.000000e+00   \n",
       "max             1.600000e+01  ...     1.700000e+01          1.700000e+01   \n",
       "\n",
       "         Landslides    Watersheds  DeterioratingInfrastructure  \\\n",
       "count  1.117957e+06  1.117957e+06                 1.117957e+06   \n",
       "mean   4.931376e+00  4.929032e+00                 4.925907e+00   \n",
       "std    2.078287e+00  2.082395e+00                 2.064813e+00   \n",
       "min    0.000000e+00  0.000000e+00                 0.000000e+00   \n",
       "25%    3.000000e+00  3.000000e+00                 3.000000e+00   \n",
       "50%    5.000000e+00  5.000000e+00                 5.000000e+00   \n",
       "75%    6.000000e+00  6.000000e+00                 6.000000e+00   \n",
       "max    1.600000e+01  1.600000e+01                 1.700000e+01   \n",
       "\n",
       "       PopulationScore   WetlandLoss  InadequatePlanning  PoliticalFactors  \\\n",
       "count     1.117957e+06  1.117957e+06        1.117957e+06      1.117957e+06   \n",
       "mean      4.927520e+00  4.950859e+00        4.940587e+00      4.939004e+00   \n",
       "std       2.074176e+00  2.068696e+00        2.081123e+00      2.090350e+00   \n",
       "min       0.000000e+00  0.000000e+00        0.000000e+00      0.000000e+00   \n",
       "25%       3.000000e+00  4.000000e+00        3.000000e+00      3.000000e+00   \n",
       "50%       5.000000e+00  5.000000e+00        5.000000e+00      5.000000e+00   \n",
       "75%       6.000000e+00  6.000000e+00        6.000000e+00      6.000000e+00   \n",
       "max       1.800000e+01  1.900000e+01        1.600000e+01      1.600000e+01   \n",
       "\n",
       "       FloodProbability  \n",
       "count      1.117957e+06  \n",
       "mean       5.044803e-01  \n",
       "std        5.102610e-02  \n",
       "min        2.850000e-01  \n",
       "25%        4.700000e-01  \n",
       "50%        5.050000e-01  \n",
       "75%        5.400000e-01  \n",
       "max        7.250000e-01  \n",
       "\n",
       "[8 rows x 22 columns]"
      ]
     },
     "execution_count": 5,
     "metadata": {},
     "output_type": "execute_result"
    }
   ],
   "source": [
    "train_data.describe()"
   ]
  },
  {
   "cell_type": "code",
   "execution_count": 6,
   "id": "b4e70ae3",
   "metadata": {
    "execution": {
     "iopub.execute_input": "2024-05-09T15:57:37.210553Z",
     "iopub.status.busy": "2024-05-09T15:57:37.210106Z",
     "iopub.status.idle": "2024-05-09T15:57:37.264522Z",
     "shell.execute_reply": "2024-05-09T15:57:37.263171Z"
    },
    "papermill": {
     "duration": 0.070589,
     "end_time": "2024-05-09T15:57:37.267443",
     "exception": false,
     "start_time": "2024-05-09T15:57:37.196854",
     "status": "completed"
    },
    "tags": []
   },
   "outputs": [
    {
     "name": "stdout",
     "output_type": "stream",
     "text": [
      "<class 'pandas.core.frame.DataFrame'>\n",
      "RangeIndex: 1117957 entries, 0 to 1117956\n",
      "Data columns (total 22 columns):\n",
      " #   Column                           Non-Null Count    Dtype  \n",
      "---  ------                           --------------    -----  \n",
      " 0   id                               1117957 non-null  int64  \n",
      " 1   MonsoonIntensity                 1117957 non-null  int64  \n",
      " 2   TopographyDrainage               1117957 non-null  int64  \n",
      " 3   RiverManagement                  1117957 non-null  int64  \n",
      " 4   Deforestation                    1117957 non-null  int64  \n",
      " 5   Urbanization                     1117957 non-null  int64  \n",
      " 6   ClimateChange                    1117957 non-null  int64  \n",
      " 7   DamsQuality                      1117957 non-null  int64  \n",
      " 8   Siltation                        1117957 non-null  int64  \n",
      " 9   AgriculturalPractices            1117957 non-null  int64  \n",
      " 10  Encroachments                    1117957 non-null  int64  \n",
      " 11  IneffectiveDisasterPreparedness  1117957 non-null  int64  \n",
      " 12  DrainageSystems                  1117957 non-null  int64  \n",
      " 13  CoastalVulnerability             1117957 non-null  int64  \n",
      " 14  Landslides                       1117957 non-null  int64  \n",
      " 15  Watersheds                       1117957 non-null  int64  \n",
      " 16  DeterioratingInfrastructure      1117957 non-null  int64  \n",
      " 17  PopulationScore                  1117957 non-null  int64  \n",
      " 18  WetlandLoss                      1117957 non-null  int64  \n",
      " 19  InadequatePlanning               1117957 non-null  int64  \n",
      " 20  PoliticalFactors                 1117957 non-null  int64  \n",
      " 21  FloodProbability                 1117957 non-null  float64\n",
      "dtypes: float64(1), int64(21)\n",
      "memory usage: 187.6 MB\n"
     ]
    }
   ],
   "source": [
    "train_data.info()"
   ]
  },
  {
   "cell_type": "code",
   "execution_count": 7,
   "id": "3693cec9",
   "metadata": {
    "execution": {
     "iopub.execute_input": "2024-05-09T15:57:37.286666Z",
     "iopub.status.busy": "2024-05-09T15:57:37.286265Z",
     "iopub.status.idle": "2024-05-09T15:57:38.924692Z",
     "shell.execute_reply": "2024-05-09T15:57:38.923426Z"
    },
    "papermill": {
     "duration": 1.650576,
     "end_time": "2024-05-09T15:57:38.927476",
     "exception": false,
     "start_time": "2024-05-09T15:57:37.276900",
     "status": "completed"
    },
    "tags": []
   },
   "outputs": [],
   "source": [
    "correlation = train_data.corr()"
   ]
  },
  {
   "cell_type": "markdown",
   "id": "3a251e1c",
   "metadata": {
    "papermill": {
     "duration": 0.008074,
     "end_time": "2024-05-09T15:57:38.944138",
     "exception": false,
     "start_time": "2024-05-09T15:57:38.936064",
     "status": "completed"
    },
    "tags": []
   },
   "source": [
    "visualizing data"
   ]
  },
  {
   "cell_type": "code",
   "execution_count": 8,
   "id": "a301985b",
   "metadata": {
    "execution": {
     "iopub.execute_input": "2024-05-09T15:57:38.962536Z",
     "iopub.status.busy": "2024-05-09T15:57:38.962137Z",
     "iopub.status.idle": "2024-05-09T15:57:40.433838Z",
     "shell.execute_reply": "2024-05-09T15:57:40.432724Z"
    },
    "papermill": {
     "duration": 1.485897,
     "end_time": "2024-05-09T15:57:40.438318",
     "exception": false,
     "start_time": "2024-05-09T15:57:38.952421",
     "status": "completed"
    },
    "tags": []
   },
   "outputs": [
    {
     "data": {
      "image/png": "[encoded data removed]",
      "text/plain": [
       "<Figure size 1200x1200 with 2 Axes>"
      ]
     },
     "metadata": {},
     "output_type": "display_data"
    }
   ],
   "source": [
    "plt.figure(figsize= (12,12))\n",
    "sns.heatmap(correlation, cmap='coolwarm', fmt = '.1f', annot = True)\n",
    "plt.show()"
   ]
  },
  {
   "cell_type": "code",
   "execution_count": 9,
   "id": "8dcabbba",
   "metadata": {
    "execution": {
     "iopub.execute_input": "2024-05-09T15:57:40.461769Z",
     "iopub.status.busy": "2024-05-09T15:57:40.461372Z",
     "iopub.status.idle": "2024-05-09T15:57:40.579733Z",
     "shell.execute_reply": "2024-05-09T15:57:40.578568Z"
    },
    "papermill": {
     "duration": 0.133176,
     "end_time": "2024-05-09T15:57:40.582373",
     "exception": false,
     "start_time": "2024-05-09T15:57:40.449197",
     "status": "completed"
    },
    "tags": []
   },
   "outputs": [],
   "source": [
    "X_train = train_data.drop(columns=['id','FloodProbability'], axis=1)\n",
    "Y_train = train_data['FloodProbability']\n",
    "X_test = test_data.drop(columns = ['id'], axis = 1)"
   ]
  },
  {
   "cell_type": "markdown",
   "id": "ef7ebca4",
   "metadata": {
    "papermill": {
     "duration": 0.011115,
     "end_time": "2024-05-09T15:57:40.604625",
     "exception": false,
     "start_time": "2024-05-09T15:57:40.593510",
     "status": "completed"
    },
    "tags": []
   },
   "source": [
    "scaling data as we are using support vector machine model it is required to scale data "
   ]
  },
  {
   "cell_type": "code",
   "execution_count": 10,
   "id": "aab4043c",
   "metadata": {
    "execution": {
     "iopub.execute_input": "2024-05-09T15:57:40.628492Z",
     "iopub.status.busy": "2024-05-09T15:57:40.628126Z",
     "iopub.status.idle": "2024-05-09T15:57:41.117924Z",
     "shell.execute_reply": "2024-05-09T15:57:41.116539Z"
    },
    "papermill": {
     "duration": 0.504869,
     "end_time": "2024-05-09T15:57:41.120728",
     "exception": false,
     "start_time": "2024-05-09T15:57:40.615859",
     "status": "completed"
    },
    "tags": []
   },
   "outputs": [],
   "source": [
    "scale = StandardScaler()\n",
    "X_train_transform= scale.fit_transform(X_train)\n",
    "X_test_transform = scale.transform(X_test)"
   ]
  },
  {
   "cell_type": "code",
   "execution_count": 11,
   "id": "8a829a86",
   "metadata": {
    "execution": {
     "iopub.execute_input": "2024-05-09T15:57:41.146132Z",
     "iopub.status.busy": "2024-05-09T15:57:41.145748Z",
     "iopub.status.idle": "2024-05-09T15:57:41.330754Z",
     "shell.execute_reply": "2024-05-09T15:57:41.329752Z"
    },
    "papermill": {
     "duration": 0.200119,
     "end_time": "2024-05-09T15:57:41.333168",
     "exception": false,
     "start_time": "2024-05-09T15:57:41.133049",
     "status": "completed"
    },
    "tags": []
   },
   "outputs": [],
   "source": [
    "import xgboost as xg\n"
   ]
  },
  {
   "cell_type": "code",
   "execution_count": 12,
   "id": "35065650",
   "metadata": {
    "execution": {
     "iopub.execute_input": "2024-05-09T15:57:41.360275Z",
     "iopub.status.busy": "2024-05-09T15:57:41.359139Z",
     "iopub.status.idle": "2024-05-09T15:57:41.363757Z",
     "shell.execute_reply": "2024-05-09T15:57:41.362939Z"
    },
    "papermill": {
     "duration": 0.020169,
     "end_time": "2024-05-09T15:57:41.365925",
     "exception": false,
     "start_time": "2024-05-09T15:57:41.345756",
     "status": "completed"
    },
    "tags": []
   },
   "outputs": [],
   "source": [
    "model = xg.XGBRegressor()\n"
   ]
  },
  {
   "cell_type": "code",
   "execution_count": 13,
   "id": "c64849a0",
   "metadata": {
    "execution": {
     "iopub.execute_input": "2024-05-09T15:57:41.390805Z",
     "iopub.status.busy": "2024-05-09T15:57:41.389813Z",
     "iopub.status.idle": "2024-05-09T15:57:49.954406Z",
     "shell.execute_reply": "2024-05-09T15:57:49.953278Z"
    },
    "papermill": {
     "duration": 8.579567,
     "end_time": "2024-05-09T15:57:49.956866",
     "exception": false,
     "start_time": "2024-05-09T15:57:41.377299",
     "status": "completed"
    },
    "tags": []
   },
   "outputs": [
    {
     "data": {
      "text/html": [
       "<style>#sk-container-id-1 {color: black;background-color: white;}#sk-container-id-1 pre{padding: 0;}#sk-container-id-1 div.sk-toggleable {background-color: white;}#sk-container-id-1 label.sk-toggleable__label {cursor: pointer;display: block;width: 100%;margin-bottom: 0;padding: 0.3em;box-sizing: border-box;text-align: center;}#sk-container-id-1 label.sk-toggleable__label-arrow:before {content: \"▸\";float: left;margin-right: 0.25em;color: #696969;}#sk-container-id-1 label.sk-toggleable__label-arrow:hover:before {color: black;}#sk-container-id-1 div.sk-estimator:hover label.sk-toggleable__label-arrow:before {color: black;}#sk-container-id-1 div.sk-toggleable__content {max-height: 0;max-width: 0;overflow: hidden;text-align: left;background-color: #f0f8ff;}#sk-container-id-1 div.sk-toggleable__content pre {margin: 0.2em;color: black;border-radius: 0.25em;background-color: #f0f8ff;}#sk-container-id-1 input.sk-toggleable__control:checked~div.sk-toggleable__content {max-height: 200px;max-width: 100%;overflow: auto;}#sk-container-id-1 input.sk-toggleable__control:checked~label.sk-toggleable__label-arrow:before {content: \"▾\";}#sk-container-id-1 div.sk-estimator input.sk-toggleable__control:checked~label.sk-toggleable__label {background-color: #d4ebff;}#sk-container-id-1 div.sk-label input.sk-toggleable__control:checked~label.sk-toggleable__label {background-color: #d4ebff;}#sk-container-id-1 input.sk-hidden--visually {border: 0;clip: rect(1px 1px 1px 1px);clip: rect(1px, 1px, 1px, 1px);height: 1px;margin: -1px;overflow: hidden;padding: 0;position: absolute;width: 1px;}#sk-container-id-1 div.sk-estimator {font-family: monospace;background-color: #f0f8ff;border: 1px dotted black;border-radius: 0.25em;box-sizing: border-box;margin-bottom: 0.5em;}#sk-container-id-1 div.sk-estimator:hover {background-color: #d4ebff;}#sk-container-id-1 div.sk-parallel-item::after {content: \"\";width: 100%;border-bottom: 1px solid gray;flex-grow: 1;}#sk-container-id-1 div.sk-label:hover label.sk-toggleable__label {background-color: #d4ebff;}#sk-container-id-1 div.sk-serial::before {content: \"\";position: absolute;border-left: 1px solid gray;box-sizing: border-box;top: 0;bottom: 0;left: 50%;z-index: 0;}#sk-container-id-1 div.sk-serial {display: flex;flex-direction: column;align-items: center;background-color: white;padding-right: 0.2em;padding-left: 0.2em;position: relative;}#sk-container-id-1 div.sk-item {position: relative;z-index: 1;}#sk-container-id-1 div.sk-parallel {display: flex;align-items: stretch;justify-content: center;background-color: white;position: relative;}#sk-container-id-1 div.sk-item::before, #sk-container-id-1 div.sk-parallel-item::before {content: \"\";position: absolute;border-left: 1px solid gray;box-sizing: border-box;top: 0;bottom: 0;left: 50%;z-index: -1;}#sk-container-id-1 div.sk-parallel-item {display: flex;flex-direction: column;z-index: 1;position: relative;background-color: white;}#sk-container-id-1 div.sk-parallel-item:first-child::after {align-self: flex-end;width: 50%;}#sk-container-id-1 div.sk-parallel-item:last-child::after {align-self: flex-start;width: 50%;}#sk-container-id-1 div.sk-parallel-item:only-child::after {width: 0;}#sk-container-id-1 div.sk-dashed-wrapped {border: 1px dashed gray;margin: 0 0.4em 0.5em 0.4em;box-sizing: border-box;padding-bottom: 0.4em;background-color: white;}#sk-container-id-1 div.sk-label label {font-family: monospace;font-weight: bold;display: inline-block;line-height: 1.2em;}#sk-container-id-1 div.sk-label-container {text-align: center;}#sk-container-id-1 div.sk-container {/* jupyter's `normalize.less` sets `[hidden] { display: none; }` but bootstrap.min.css set `[hidden] { display: none !important; }` so we also need the `!important` here to be able to override the default hidden behavior on the sphinx rendered scikit-learn.org. See: https://github.com/scikit-learn/scikit-learn/issues/21755 */display: inline-block !important;position: relative;}#sk-container-id-1 div.sk-text-repr-fallback {display: none;}</style><div id=\"sk-container-id-1\" class=\"sk-top-container\"><div class=\"sk-text-repr-fallback\"><pre>XGBRegressor(base_score=None, booster=None, callbacks=None,\n",
       "             colsample_bylevel=None, colsample_bynode=None,\n",
       "             colsample_bytree=None, device=None, early_stopping_rounds=None,\n",
       "             enable_categorical=False, eval_metric=None, feature_types=None,\n",
       "             gamma=None, grow_policy=None, importance_type=None,\n",
       "             interaction_constraints=None, learning_rate=None, max_bin=None,\n",
       "             max_cat_threshold=None, max_cat_to_onehot=None,\n",
       "             max_delta_step=None, max_depth=None, max_leaves=None,\n",
       "             min_child_weight=None, missing=nan, monotone_constraints=None,\n",
       "             multi_strategy=None, n_estimators=None, n_jobs=None,\n",
       "             num_parallel_tree=None, random_state=None, ...)</pre><b>In a Jupyter environment, please rerun this cell to show the HTML representation or trust the notebook. <br />On GitHub, the HTML representation is unable to render, please try loading this page with nbviewer.org.</b></div><div class=\"sk-container\" hidden><div class=\"sk-item\"><div class=\"sk-estimator sk-toggleable\"><input class=\"sk-toggleable__control sk-hidden--visually\" id=\"sk-estimator-id-1\" type=\"checkbox\" checked><label for=\"sk-estimator-id-1\" class=\"sk-toggleable__label sk-toggleable__label-arrow\">XGBRegressor</label><div class=\"sk-toggleable__content\"><pre>XGBRegressor(base_score=None, booster=None, callbacks=None,\n",
       "             colsample_bylevel=None, colsample_bynode=None,\n",
       "             colsample_bytree=None, device=None, early_stopping_rounds=None,\n",
       "             enable_categorical=False, eval_metric=None, feature_types=None,\n",
       "             gamma=None, grow_policy=None, importance_type=None,\n",
       "             interaction_constraints=None, learning_rate=None, max_bin=None,\n",
       "             max_cat_threshold=None, max_cat_to_onehot=None,\n",
       "             max_delta_step=None, max_depth=None, max_leaves=None,\n",
       "             min_child_weight=None, missing=nan, monotone_constraints=None,\n",
       "             multi_strategy=None, n_estimators=None, n_jobs=None,\n",
       "             num_parallel_tree=None, random_state=None, ...)</pre></div></div></div></div></div>"
      ],
      "text/plain": [
       "XGBRegressor(base_score=None, booster=None, callbacks=None,\n",
       "             colsample_bylevel=None, colsample_bynode=None,\n",
       "             colsample_bytree=None, device=None, early_stopping_rounds=None,\n",
       "             enable_categorical=False, eval_metric=None, feature_types=None,\n",
       "             gamma=None, grow_policy=None, importance_type=None,\n",
       "             interaction_constraints=None, learning_rate=None, max_bin=None,\n",
       "             max_cat_threshold=None, max_cat_to_onehot=None,\n",
       "             max_delta_step=None, max_depth=None, max_leaves=None,\n",
       "             min_child_weight=None, missing=nan, monotone_constraints=None,\n",
       "             multi_strategy=None, n_estimators=None, n_jobs=None,\n",
       "             num_parallel_tree=None, random_state=None, ...)"
      ]
     },
     "execution_count": 13,
     "metadata": {},
     "output_type": "execute_result"
    }
   ],
   "source": [
    "model.fit(X_train_transform,Y_train)"
   ]
  },
  {
   "cell_type": "code",
   "execution_count": 14,
   "id": "e6503e0a",
   "metadata": {
    "execution": {
     "iopub.execute_input": "2024-05-09T15:57:49.983094Z",
     "iopub.status.busy": "2024-05-09T15:57:49.982570Z",
     "iopub.status.idle": "2024-05-09T15:57:50.760875Z",
     "shell.execute_reply": "2024-05-09T15:57:50.759968Z"
    },
    "papermill": {
     "duration": 0.794229,
     "end_time": "2024-05-09T15:57:50.763236",
     "exception": false,
     "start_time": "2024-05-09T15:57:49.969007",
     "status": "completed"
    },
    "tags": []
   },
   "outputs": [],
   "source": [
    "Y_pred = model.predict(X_test_transform)"
   ]
  },
  {
   "cell_type": "code",
   "execution_count": 15,
   "id": "2be547f3",
   "metadata": {
    "execution": {
     "iopub.execute_input": "2024-05-09T15:57:50.787803Z",
     "iopub.status.busy": "2024-05-09T15:57:50.787386Z",
     "iopub.status.idle": "2024-05-09T15:57:50.793316Z",
     "shell.execute_reply": "2024-05-09T15:57:50.792118Z"
    },
    "papermill": {
     "duration": 0.022042,
     "end_time": "2024-05-09T15:57:50.796567",
     "exception": false,
     "start_time": "2024-05-09T15:57:50.774525",
     "status": "completed"
    },
    "tags": []
   },
   "outputs": [
    {
     "name": "stdout",
     "output_type": "stream",
     "text": [
      "[0.5805085  0.46748444 0.4461577  ... 0.6255179  0.55592906 0.5103532 ]\n"
     ]
    }
   ],
   "source": [
    "print(Y_pred)"
   ]
  },
  {
   "cell_type": "code",
   "execution_count": 16,
   "id": "4bb855a6",
   "metadata": {
    "execution": {
     "iopub.execute_input": "2024-05-09T15:57:50.822608Z",
     "iopub.status.busy": "2024-05-09T15:57:50.821433Z",
     "iopub.status.idle": "2024-05-09T15:57:50.828395Z",
     "shell.execute_reply": "2024-05-09T15:57:50.827480Z"
    },
    "papermill": {
     "duration": 0.022536,
     "end_time": "2024-05-09T15:57:50.830671",
     "exception": false,
     "start_time": "2024-05-09T15:57:50.808135",
     "status": "completed"
    },
    "tags": []
   },
   "outputs": [],
   "source": [
    "X_test['FloodProbability']= Y_pred"
   ]
  },
  {
   "cell_type": "code",
   "execution_count": 17,
   "id": "deef3a43",
   "metadata": {
    "execution": {
     "iopub.execute_input": "2024-05-09T15:57:50.855165Z",
     "iopub.status.busy": "2024-05-09T15:57:50.854788Z",
     "iopub.status.idle": "2024-05-09T15:57:50.874180Z",
     "shell.execute_reply": "2024-05-09T15:57:50.873014Z"
    },
    "papermill": {
     "duration": 0.03453,
     "end_time": "2024-05-09T15:57:50.876544",
     "exception": false,
     "start_time": "2024-05-09T15:57:50.842014",
     "status": "completed"
    },
    "tags": []
   },
   "outputs": [
    {
     "data": {
      "text/html": [
       "<div>\n",
       "<style scoped>\n",
       "    .dataframe tbody tr th:only-of-type {\n",
       "        vertical-align: middle;\n",
       "    }\n",
       "\n",
       "    .dataframe tbody tr th {\n",
       "        vertical-align: top;\n",
       "    }\n",
       "\n",
       "    .dataframe thead th {\n",
       "        text-align: right;\n",
       "    }\n",
       "</style>\n",
       "<table border=\"1\" class=\"dataframe\">\n",
       "  <thead>\n",
       "    <tr style=\"text-align: right;\">\n",
       "      <th></th>\n",
       "      <th>MonsoonIntensity</th>\n",
       "      <th>TopographyDrainage</th>\n",
       "      <th>RiverManagement</th>\n",
       "      <th>Deforestation</th>\n",
       "      <th>Urbanization</th>\n",
       "      <th>ClimateChange</th>\n",
       "      <th>DamsQuality</th>\n",
       "      <th>Siltation</th>\n",
       "      <th>AgriculturalPractices</th>\n",
       "      <th>Encroachments</th>\n",
       "      <th>...</th>\n",
       "      <th>DrainageSystems</th>\n",
       "      <th>CoastalVulnerability</th>\n",
       "      <th>Landslides</th>\n",
       "      <th>Watersheds</th>\n",
       "      <th>DeterioratingInfrastructure</th>\n",
       "      <th>PopulationScore</th>\n",
       "      <th>WetlandLoss</th>\n",
       "      <th>InadequatePlanning</th>\n",
       "      <th>PoliticalFactors</th>\n",
       "      <th>FloodProbability</th>\n",
       "    </tr>\n",
       "  </thead>\n",
       "  <tbody>\n",
       "    <tr>\n",
       "      <th>0</th>\n",
       "      <td>4</td>\n",
       "      <td>6</td>\n",
       "      <td>3</td>\n",
       "      <td>5</td>\n",
       "      <td>6</td>\n",
       "      <td>7</td>\n",
       "      <td>8</td>\n",
       "      <td>7</td>\n",
       "      <td>8</td>\n",
       "      <td>4</td>\n",
       "      <td>...</td>\n",
       "      <td>5</td>\n",
       "      <td>7</td>\n",
       "      <td>5</td>\n",
       "      <td>6</td>\n",
       "      <td>3</td>\n",
       "      <td>6</td>\n",
       "      <td>4</td>\n",
       "      <td>4</td>\n",
       "      <td>5</td>\n",
       "      <td>0.580508</td>\n",
       "    </tr>\n",
       "    <tr>\n",
       "      <th>1</th>\n",
       "      <td>4</td>\n",
       "      <td>4</td>\n",
       "      <td>2</td>\n",
       "      <td>9</td>\n",
       "      <td>5</td>\n",
       "      <td>5</td>\n",
       "      <td>4</td>\n",
       "      <td>7</td>\n",
       "      <td>5</td>\n",
       "      <td>4</td>\n",
       "      <td>...</td>\n",
       "      <td>4</td>\n",
       "      <td>7</td>\n",
       "      <td>4</td>\n",
       "      <td>5</td>\n",
       "      <td>1</td>\n",
       "      <td>7</td>\n",
       "      <td>4</td>\n",
       "      <td>4</td>\n",
       "      <td>3</td>\n",
       "      <td>0.467484</td>\n",
       "    </tr>\n",
       "    <tr>\n",
       "      <th>2</th>\n",
       "      <td>1</td>\n",
       "      <td>3</td>\n",
       "      <td>6</td>\n",
       "      <td>5</td>\n",
       "      <td>7</td>\n",
       "      <td>2</td>\n",
       "      <td>4</td>\n",
       "      <td>6</td>\n",
       "      <td>4</td>\n",
       "      <td>2</td>\n",
       "      <td>...</td>\n",
       "      <td>9</td>\n",
       "      <td>2</td>\n",
       "      <td>5</td>\n",
       "      <td>5</td>\n",
       "      <td>2</td>\n",
       "      <td>3</td>\n",
       "      <td>6</td>\n",
       "      <td>8</td>\n",
       "      <td>3</td>\n",
       "      <td>0.446158</td>\n",
       "    </tr>\n",
       "    <tr>\n",
       "      <th>3</th>\n",
       "      <td>2</td>\n",
       "      <td>4</td>\n",
       "      <td>4</td>\n",
       "      <td>6</td>\n",
       "      <td>4</td>\n",
       "      <td>5</td>\n",
       "      <td>4</td>\n",
       "      <td>3</td>\n",
       "      <td>4</td>\n",
       "      <td>4</td>\n",
       "      <td>...</td>\n",
       "      <td>8</td>\n",
       "      <td>4</td>\n",
       "      <td>6</td>\n",
       "      <td>7</td>\n",
       "      <td>6</td>\n",
       "      <td>4</td>\n",
       "      <td>2</td>\n",
       "      <td>4</td>\n",
       "      <td>4</td>\n",
       "      <td>0.460410</td>\n",
       "    </tr>\n",
       "    <tr>\n",
       "      <th>4</th>\n",
       "      <td>6</td>\n",
       "      <td>3</td>\n",
       "      <td>2</td>\n",
       "      <td>4</td>\n",
       "      <td>6</td>\n",
       "      <td>4</td>\n",
       "      <td>5</td>\n",
       "      <td>5</td>\n",
       "      <td>3</td>\n",
       "      <td>7</td>\n",
       "      <td>...</td>\n",
       "      <td>3</td>\n",
       "      <td>2</td>\n",
       "      <td>6</td>\n",
       "      <td>4</td>\n",
       "      <td>6</td>\n",
       "      <td>8</td>\n",
       "      <td>4</td>\n",
       "      <td>5</td>\n",
       "      <td>5</td>\n",
       "      <td>0.451605</td>\n",
       "    </tr>\n",
       "  </tbody>\n",
       "</table>\n",
       "<p>5 rows × 21 columns</p>\n",
       "</div>"
      ],
      "text/plain": [
       "   MonsoonIntensity  TopographyDrainage  RiverManagement  Deforestation  \\\n",
       "0                 4                   6                3              5   \n",
       "1                 4                   4                2              9   \n",
       "2                 1                   3                6              5   \n",
       "3                 2                   4                4              6   \n",
       "4                 6                   3                2              4   \n",
       "\n",
       "   Urbanization  ClimateChange  DamsQuality  Siltation  AgriculturalPractices  \\\n",
       "0             6              7            8          7                      8   \n",
       "1             5              5            4          7                      5   \n",
       "2             7              2            4          6                      4   \n",
       "3             4              5            4          3                      4   \n",
       "4             6              4            5          5                      3   \n",
       "\n",
       "   Encroachments  ...  DrainageSystems  CoastalVulnerability  Landslides  \\\n",
       "0              4  ...                5                     7           5   \n",
       "1              4  ...                4                     7           4   \n",
       "2              2  ...                9                     2           5   \n",
       "3              4  ...                8                     4           6   \n",
       "4              7  ...                3                     2           6   \n",
       "\n",
       "   Watersheds  DeterioratingInfrastructure  PopulationScore  WetlandLoss  \\\n",
       "0           6                            3                6            4   \n",
       "1           5                            1                7            4   \n",
       "2           5                            2                3            6   \n",
       "3           7                            6                4            2   \n",
       "4           4                            6                8            4   \n",
       "\n",
       "   InadequatePlanning  PoliticalFactors  FloodProbability  \n",
       "0                   4                 5          0.580508  \n",
       "1                   4                 3          0.467484  \n",
       "2                   8                 3          0.446158  \n",
       "3                   4                 4          0.460410  \n",
       "4                   5                 5          0.451605  \n",
       "\n",
       "[5 rows x 21 columns]"
      ]
     },
     "execution_count": 17,
     "metadata": {},
     "output_type": "execute_result"
    }
   ],
   "source": [
    "X_test.head()"
   ]
  },
  {
   "cell_type": "code",
   "execution_count": 18,
   "id": "3d1373df",
   "metadata": {
    "execution": {
     "iopub.execute_input": "2024-05-09T15:57:50.902927Z",
     "iopub.status.busy": "2024-05-09T15:57:50.902370Z",
     "iopub.status.idle": "2024-05-09T15:57:50.908225Z",
     "shell.execute_reply": "2024-05-09T15:57:50.907068Z"
    },
    "papermill": {
     "duration": 0.021544,
     "end_time": "2024-05-09T15:57:50.910398",
     "exception": false,
     "start_time": "2024-05-09T15:57:50.888854",
     "status": "completed"
    },
    "tags": []
   },
   "outputs": [],
   "source": [
    "sample_submission = X_test['FloodProbability']"
   ]
  },
  {
   "cell_type": "code",
   "execution_count": 19,
   "id": "744fcd8c",
   "metadata": {
    "execution": {
     "iopub.execute_input": "2024-05-09T15:57:50.936339Z",
     "iopub.status.busy": "2024-05-09T15:57:50.935760Z",
     "iopub.status.idle": "2024-05-09T15:57:50.941233Z",
     "shell.execute_reply": "2024-05-09T15:57:50.939907Z"
    },
    "papermill": {
     "duration": 0.02102,
     "end_time": "2024-05-09T15:57:50.943697",
     "exception": false,
     "start_time": "2024-05-09T15:57:50.922677",
     "status": "completed"
    },
    "tags": []
   },
   "outputs": [
    {
     "name": "stdout",
     "output_type": "stream",
     "text": [
      "745305\n"
     ]
    }
   ],
   "source": [
    "print(len(sample_submission))"
   ]
  },
  {
   "cell_type": "code",
   "execution_count": 20,
   "id": "cac8d3b1",
   "metadata": {
    "execution": {
     "iopub.execute_input": "2024-05-09T15:57:50.969682Z",
     "iopub.status.busy": "2024-05-09T15:57:50.969265Z",
     "iopub.status.idle": "2024-05-09T15:57:51.000874Z",
     "shell.execute_reply": "2024-05-09T15:57:50.999405Z"
    },
    "papermill": {
     "duration": 0.047648,
     "end_time": "2024-05-09T15:57:51.003441",
     "exception": false,
     "start_time": "2024-05-09T15:57:50.955793",
     "status": "completed"
    },
    "tags": []
   },
   "outputs": [],
   "source": [
    "id = list(range(1117957, 1117957 + len(Y_pred)))"
   ]
  },
  {
   "cell_type": "code",
   "execution_count": 21,
   "id": "7cb688d3",
   "metadata": {
    "execution": {
     "iopub.execute_input": "2024-05-09T15:57:51.029353Z",
     "iopub.status.busy": "2024-05-09T15:57:51.028991Z",
     "iopub.status.idle": "2024-05-09T15:57:51.223128Z",
     "shell.execute_reply": "2024-05-09T15:57:51.222071Z"
    },
    "papermill": {
     "duration": 0.209706,
     "end_time": "2024-05-09T15:57:51.225503",
     "exception": false,
     "start_time": "2024-05-09T15:57:51.015797",
     "status": "completed"
    },
    "tags": []
   },
   "outputs": [],
   "source": [
    "id = pd.DataFrame(id)\n",
    "id.columns =['id']"
   ]
  },
  {
   "cell_type": "code",
   "execution_count": 22,
   "id": "88740584",
   "metadata": {
    "execution": {
     "iopub.execute_input": "2024-05-09T15:57:51.251628Z",
     "iopub.status.busy": "2024-05-09T15:57:51.250834Z",
     "iopub.status.idle": "2024-05-09T15:57:51.260822Z",
     "shell.execute_reply": "2024-05-09T15:57:51.259313Z"
    },
    "papermill": {
     "duration": 0.026102,
     "end_time": "2024-05-09T15:57:51.263718",
     "exception": false,
     "start_time": "2024-05-09T15:57:51.237616",
     "status": "completed"
    },
    "tags": []
   },
   "outputs": [
    {
     "data": {
      "text/html": [
       "<div>\n",
       "<style scoped>\n",
       "    .dataframe tbody tr th:only-of-type {\n",
       "        vertical-align: middle;\n",
       "    }\n",
       "\n",
       "    .dataframe tbody tr th {\n",
       "        vertical-align: top;\n",
       "    }\n",
       "\n",
       "    .dataframe thead th {\n",
       "        text-align: right;\n",
       "    }\n",
       "</style>\n",
       "<table border=\"1\" class=\"dataframe\">\n",
       "  <thead>\n",
       "    <tr style=\"text-align: right;\">\n",
       "      <th></th>\n",
       "      <th>id</th>\n",
       "    </tr>\n",
       "  </thead>\n",
       "  <tbody>\n",
       "    <tr>\n",
       "      <th>0</th>\n",
       "      <td>1117957</td>\n",
       "    </tr>\n",
       "    <tr>\n",
       "      <th>1</th>\n",
       "      <td>1117958</td>\n",
       "    </tr>\n",
       "    <tr>\n",
       "      <th>2</th>\n",
       "      <td>1117959</td>\n",
       "    </tr>\n",
       "    <tr>\n",
       "      <th>3</th>\n",
       "      <td>1117960</td>\n",
       "    </tr>\n",
       "    <tr>\n",
       "      <th>4</th>\n",
       "      <td>1117961</td>\n",
       "    </tr>\n",
       "  </tbody>\n",
       "</table>\n",
       "</div>"
      ],
      "text/plain": [
       "        id\n",
       "0  1117957\n",
       "1  1117958\n",
       "2  1117959\n",
       "3  1117960\n",
       "4  1117961"
      ]
     },
     "execution_count": 22,
     "metadata": {},
     "output_type": "execute_result"
    }
   ],
   "source": [
    "id.head()"
   ]
  },
  {
   "cell_type": "code",
   "execution_count": 23,
   "id": "fe0bbf92",
   "metadata": {
    "execution": {
     "iopub.execute_input": "2024-05-09T15:57:51.289778Z",
     "iopub.status.busy": "2024-05-09T15:57:51.289344Z",
     "iopub.status.idle": "2024-05-09T15:57:51.296909Z",
     "shell.execute_reply": "2024-05-09T15:57:51.295650Z"
    },
    "papermill": {
     "duration": 0.023392,
     "end_time": "2024-05-09T15:57:51.299460",
     "exception": false,
     "start_time": "2024-05-09T15:57:51.276068",
     "status": "completed"
    },
    "tags": []
   },
   "outputs": [],
   "source": [
    "sample_submission = pd.concat([id, sample_submission], axis=1)"
   ]
  },
  {
   "cell_type": "code",
   "execution_count": 24,
   "id": "b04e28ae",
   "metadata": {
    "execution": {
     "iopub.execute_input": "2024-05-09T15:57:51.325426Z",
     "iopub.status.busy": "2024-05-09T15:57:51.325061Z",
     "iopub.status.idle": "2024-05-09T15:57:51.337248Z",
     "shell.execute_reply": "2024-05-09T15:57:51.335170Z"
    },
    "papermill": {
     "duration": 0.028641,
     "end_time": "2024-05-09T15:57:51.340314",
     "exception": false,
     "start_time": "2024-05-09T15:57:51.311673",
     "status": "completed"
    },
    "tags": []
   },
   "outputs": [
    {
     "data": {
      "text/html": [
       "<div>\n",
       "<style scoped>\n",
       "    .dataframe tbody tr th:only-of-type {\n",
       "        vertical-align: middle;\n",
       "    }\n",
       "\n",
       "    .dataframe tbody tr th {\n",
       "        vertical-align: top;\n",
       "    }\n",
       "\n",
       "    .dataframe thead th {\n",
       "        text-align: right;\n",
       "    }\n",
       "</style>\n",
       "<table border=\"1\" class=\"dataframe\">\n",
       "  <thead>\n",
       "    <tr style=\"text-align: right;\">\n",
       "      <th></th>\n",
       "      <th>id</th>\n",
       "      <th>FloodProbability</th>\n",
       "    </tr>\n",
       "  </thead>\n",
       "  <tbody>\n",
       "    <tr>\n",
       "      <th>0</th>\n",
       "      <td>1117957</td>\n",
       "      <td>0.580508</td>\n",
       "    </tr>\n",
       "    <tr>\n",
       "      <th>1</th>\n",
       "      <td>1117958</td>\n",
       "      <td>0.467484</td>\n",
       "    </tr>\n",
       "    <tr>\n",
       "      <th>2</th>\n",
       "      <td>1117959</td>\n",
       "      <td>0.446158</td>\n",
       "    </tr>\n",
       "    <tr>\n",
       "      <th>3</th>\n",
       "      <td>1117960</td>\n",
       "      <td>0.460410</td>\n",
       "    </tr>\n",
       "    <tr>\n",
       "      <th>4</th>\n",
       "      <td>1117961</td>\n",
       "      <td>0.451605</td>\n",
       "    </tr>\n",
       "  </tbody>\n",
       "</table>\n",
       "</div>"
      ],
      "text/plain": [
       "        id  FloodProbability\n",
       "0  1117957          0.580508\n",
       "1  1117958          0.467484\n",
       "2  1117959          0.446158\n",
       "3  1117960          0.460410\n",
       "4  1117961          0.451605"
      ]
     },
     "execution_count": 24,
     "metadata": {},
     "output_type": "execute_result"
    }
   ],
   "source": [
    "sample_submission.head()"
   ]
  },
  {
   "cell_type": "code",
   "execution_count": 25,
   "id": "0c29ad0b",
   "metadata": {
    "execution": {
     "iopub.execute_input": "2024-05-09T15:57:51.367172Z",
     "iopub.status.busy": "2024-05-09T15:57:51.366783Z",
     "iopub.status.idle": "2024-05-09T15:57:51.373225Z",
     "shell.execute_reply": "2024-05-09T15:57:51.372232Z"
    },
    "papermill": {
     "duration": 0.022403,
     "end_time": "2024-05-09T15:57:51.375737",
     "exception": false,
     "start_time": "2024-05-09T15:57:51.353334",
     "status": "completed"
    },
    "tags": []
   },
   "outputs": [],
   "source": [
    "sample_submission = sample_submission.reset_index(drop=True)"
   ]
  },
  {
   "cell_type": "code",
   "execution_count": 26,
   "id": "382027b5",
   "metadata": {
    "execution": {
     "iopub.execute_input": "2024-05-09T15:57:51.402109Z",
     "iopub.status.busy": "2024-05-09T15:57:51.401751Z",
     "iopub.status.idle": "2024-05-09T15:57:51.411942Z",
     "shell.execute_reply": "2024-05-09T15:57:51.410820Z"
    },
    "papermill": {
     "duration": 0.025984,
     "end_time": "2024-05-09T15:57:51.414178",
     "exception": false,
     "start_time": "2024-05-09T15:57:51.388194",
     "status": "completed"
    },
    "tags": []
   },
   "outputs": [
    {
     "data": {
      "text/html": [
       "<div>\n",
       "<style scoped>\n",
       "    .dataframe tbody tr th:only-of-type {\n",
       "        vertical-align: middle;\n",
       "    }\n",
       "\n",
       "    .dataframe tbody tr th {\n",
       "        vertical-align: top;\n",
       "    }\n",
       "\n",
       "    .dataframe thead th {\n",
       "        text-align: right;\n",
       "    }\n",
       "</style>\n",
       "<table border=\"1\" class=\"dataframe\">\n",
       "  <thead>\n",
       "    <tr style=\"text-align: right;\">\n",
       "      <th></th>\n",
       "      <th>id</th>\n",
       "      <th>FloodProbability</th>\n",
       "    </tr>\n",
       "  </thead>\n",
       "  <tbody>\n",
       "    <tr>\n",
       "      <th>0</th>\n",
       "      <td>1117957</td>\n",
       "      <td>0.580508</td>\n",
       "    </tr>\n",
       "    <tr>\n",
       "      <th>1</th>\n",
       "      <td>1117958</td>\n",
       "      <td>0.467484</td>\n",
       "    </tr>\n",
       "    <tr>\n",
       "      <th>2</th>\n",
       "      <td>1117959</td>\n",
       "      <td>0.446158</td>\n",
       "    </tr>\n",
       "    <tr>\n",
       "      <th>3</th>\n",
       "      <td>1117960</td>\n",
       "      <td>0.460410</td>\n",
       "    </tr>\n",
       "    <tr>\n",
       "      <th>4</th>\n",
       "      <td>1117961</td>\n",
       "      <td>0.451605</td>\n",
       "    </tr>\n",
       "  </tbody>\n",
       "</table>\n",
       "</div>"
      ],
      "text/plain": [
       "        id  FloodProbability\n",
       "0  1117957          0.580508\n",
       "1  1117958          0.467484\n",
       "2  1117959          0.446158\n",
       "3  1117960          0.460410\n",
       "4  1117961          0.451605"
      ]
     },
     "execution_count": 26,
     "metadata": {},
     "output_type": "execute_result"
    }
   ],
   "source": [
    "sample_submission.head()"
   ]
  },
  {
   "cell_type": "code",
   "execution_count": 27,
   "id": "9424c632",
   "metadata": {
    "execution": {
     "iopub.execute_input": "2024-05-09T15:57:51.440971Z",
     "iopub.status.busy": "2024-05-09T15:57:51.440551Z",
     "iopub.status.idle": "2024-05-09T15:57:51.447727Z",
     "shell.execute_reply": "2024-05-09T15:57:51.446440Z"
    },
    "papermill": {
     "duration": 0.023599,
     "end_time": "2024-05-09T15:57:51.450228",
     "exception": false,
     "start_time": "2024-05-09T15:57:51.426629",
     "status": "completed"
    },
    "tags": []
   },
   "outputs": [],
   "source": [
    "sample_submission = sample_submission.set_index('id')"
   ]
  },
  {
   "cell_type": "code",
   "execution_count": 28,
   "id": "87dedb4b",
   "metadata": {
    "execution": {
     "iopub.execute_input": "2024-05-09T15:57:51.476708Z",
     "iopub.status.busy": "2024-05-09T15:57:51.476307Z",
     "iopub.status.idle": "2024-05-09T15:57:52.649668Z",
     "shell.execute_reply": "2024-05-09T15:57:52.648569Z"
    },
    "papermill": {
     "duration": 1.189699,
     "end_time": "2024-05-09T15:57:52.652286",
     "exception": false,
     "start_time": "2024-05-09T15:57:51.462587",
     "status": "completed"
    },
    "tags": []
   },
   "outputs": [],
   "source": [
    "sample_submission.to_csv('sample_submission', index=True)"
   ]
  },
  {
   "cell_type": "code",
   "execution_count": 29,
   "id": "4abd7bb4",
   "metadata": {
    "execution": {
     "iopub.execute_input": "2024-05-09T15:57:52.679398Z",
     "iopub.status.busy": "2024-05-09T15:57:52.678998Z",
     "iopub.status.idle": "2024-05-09T15:57:52.689352Z",
     "shell.execute_reply": "2024-05-09T15:57:52.687679Z"
    },
    "papermill": {
     "duration": 0.027022,
     "end_time": "2024-05-09T15:57:52.691808",
     "exception": false,
     "start_time": "2024-05-09T15:57:52.664786",
     "status": "completed"
    },
    "tags": []
   },
   "outputs": [
    {
     "data": {
      "text/html": [
       "<div>\n",
       "<style scoped>\n",
       "    .dataframe tbody tr th:only-of-type {\n",
       "        vertical-align: middle;\n",
       "    }\n",
       "\n",
       "    .dataframe tbody tr th {\n",
       "        vertical-align: top;\n",
       "    }\n",
       "\n",
       "    .dataframe thead th {\n",
       "        text-align: right;\n",
       "    }\n",
       "</style>\n",
       "<table border=\"1\" class=\"dataframe\">\n",
       "  <thead>\n",
       "    <tr style=\"text-align: right;\">\n",
       "      <th></th>\n",
       "      <th>FloodProbability</th>\n",
       "    </tr>\n",
       "    <tr>\n",
       "      <th>id</th>\n",
       "      <th></th>\n",
       "    </tr>\n",
       "  </thead>\n",
       "  <tbody>\n",
       "    <tr>\n",
       "      <th>1117957</th>\n",
       "      <td>0.580508</td>\n",
       "    </tr>\n",
       "    <tr>\n",
       "      <th>1117958</th>\n",
       "      <td>0.467484</td>\n",
       "    </tr>\n",
       "    <tr>\n",
       "      <th>1117959</th>\n",
       "      <td>0.446158</td>\n",
       "    </tr>\n",
       "    <tr>\n",
       "      <th>1117960</th>\n",
       "      <td>0.460410</td>\n",
       "    </tr>\n",
       "    <tr>\n",
       "      <th>1117961</th>\n",
       "      <td>0.451605</td>\n",
       "    </tr>\n",
       "  </tbody>\n",
       "</table>\n",
       "</div>"
      ],
      "text/plain": [
       "         FloodProbability\n",
       "id                       \n",
       "1117957          0.580508\n",
       "1117958          0.467484\n",
       "1117959          0.446158\n",
       "1117960          0.460410\n",
       "1117961          0.451605"
      ]
     },
     "execution_count": 29,
     "metadata": {},
     "output_type": "execute_result"
    }
   ],
   "source": [
    "sample_submission.head()"
   ]
  },
  {
   "cell_type": "code",
   "execution_count": null,
   "id": "264f12ff",
   "metadata": {
    "papermill": {
     "duration": 0.013401,
     "end_time": "2024-05-09T15:57:52.719515",
     "exception": false,
     "start_time": "2024-05-09T15:57:52.706114",
     "status": "completed"
    },
    "tags": []
   },
   "outputs": [],
   "source": []
  }
 ],
 "metadata": {
  "kaggle": {
   "accelerator": "none",
   "dataSources": [
    {
     "databundleVersionId": 8121328,
     "sourceId": 73278,
     "sourceType": "competition"
    }
   ],
   "dockerImageVersionId": 30698,
   "isGpuEnabled": false,
   "isInternetEnabled": false,
   "language": "python",
   "sourceType": "notebook"
  },
  "kernelspec": {
   "display_name": "Python 3",
   "language": "python",
   "name": "python3"
  },
  "language_info": {
   "codemirror_mode": {
    "name": "ipython",
    "version": 3
   },
   "file_extension": ".py",
   "mimetype": "text/x-python",
   "name": "python",
   "nbconvert_exporter": "python",
   "pygments_lexer": "ipython3",
   "version": "3.10.13"
  },
  "papermill": {
   "default_parameters": {},
   "duration": 26.87772,
   "end_time": "2024-05-09T15:57:53.455308",
   "environment_variables": {},
   "exception": null,
   "input_path": "__notebook__.ipynb",
   "output_path": "__notebook__.ipynb",
   "parameters": {},
   "start_time": "2024-05-09T15:57:26.577588",
   "version": "2.5.0"
  }
 },
 "nbformat": 4,
 "nbformat_minor": 5
}
